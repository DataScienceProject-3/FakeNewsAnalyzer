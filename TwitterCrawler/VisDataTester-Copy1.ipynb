{
 "cells": [
  {
   "cell_type": "code",
   "execution_count": 1,
   "metadata": {},
   "outputs": [],
   "source": [
    "import tweepy\n",
    "import csv\n",
    "import json\n",
    "from config import (consumer_key, consumer_secret,\n",
    "                    access_token, access_token_secret)\n",
    "import wget\n",
    "from bson import ObjectId # For ObjectId to work\n",
    "from pymongo import MongoClient\n",
    "import pandas as pd\n",
    "from datetime import datetime\n",
    "import numpy as np\n",
    "import time\n"
   ]
  },
  {
   "cell_type": "code",
   "execution_count": 2,
   "metadata": {},
   "outputs": [
    {
     "name": "stdout",
     "output_type": "stream",
     "text": [
      "{'_id': ObjectId('5c23d50044925f3eb8d1a2ef'), 'Date': 'on Sunday, December 23rd, 2018', 'Meter': 'Half-True', 'Source': 'Garry McCarthy', 'Statement': '\"There was almost a 70 percent reduction in police-related shootings under my tenure because of training, supervision and policy decisions.\"\\r\\n', 'Statement_url': '/illinois/statements/2018/dec/23/garry-mccarthy/did-police-shootings-plunge-under-mccarthys-leader/', 'Fact': \"The numbers fell, but that doesn't mean he can take all the credit\", 'Source_Url': '/personalities/garry-mccarthy/statements/byruling/half-true/'}\n"
     ]
    }
   ],
   "source": [
    "uri = \"mongodb://newsdata:ZG4cTh2XbyUpkiVggEcQ6lL6UEC32iJThy4eZrO9RLY1suKiXdUNrqi5pzrqzqNvUsdO9xAxjhyFfNfNVoBeXA==@newsdata.documents.azure.com:10255/?ssl=true&replicaSet=globaldb\"\n",
    "client = MongoClient(uri)\n",
    "db = client.fakenewsdb\n",
    "politico_facts_data_table = db.politico_facts_data\n",
    "print(politico_facts_data_table.find_one())"
   ]
  },
  {
   "cell_type": "code",
   "execution_count": 4,
   "metadata": {},
   "outputs": [
    {
     "name": "stdout",
     "output_type": "stream",
     "text": [
      "{'_id': ObjectId('5c359c07f7421b47b0d92757'), 'id': 'politifact13589', 'title': 'Pope Francis To Followers: “Koran And Holy Bible Are The Same”', 'twitter_text': 'Pope Francis To Followers: \"Koran And Holy Bible Are The Same\" | National Report https://t.co/686RVPQZF6 via @wpusta', 'twitter_location': 'DENMARK', 'twitter_time': '2016-02-21 20:01:10', 'twitter_user': 'PRINTSVONJANE'}\n"
     ]
    }
   ],
   "source": [
    "records = db.twitter_data_combined.find().sort([('_id', -1)]).limit(1)\n",
    "for r in records:\n",
    "    print(r)"
   ]
  },
  {
   "cell_type": "code",
   "execution_count": 4,
   "metadata": {},
   "outputs": [
    {
     "data": {
      "text/html": [
       "<div>\n",
       "<style scoped>\n",
       "    .dataframe tbody tr th:only-of-type {\n",
       "        vertical-align: middle;\n",
       "    }\n",
       "\n",
       "    .dataframe tbody tr th {\n",
       "        vertical-align: top;\n",
       "    }\n",
       "\n",
       "    .dataframe thead th {\n",
       "        text-align: right;\n",
       "    }\n",
       "</style>\n",
       "<table border=\"1\" class=\"dataframe\">\n",
       "  <thead>\n",
       "    <tr style=\"text-align: right;\">\n",
       "      <th></th>\n",
       "      <th>_id</th>\n",
       "      <th>id</th>\n",
       "      <th>tweetCount</th>\n",
       "    </tr>\n",
       "  </thead>\n",
       "  <tbody>\n",
       "    <tr>\n",
       "      <th>0</th>\n",
       "      <td>5c3445ffe8a490580c567e3c</td>\n",
       "      <td>politifact14927</td>\n",
       "      <td>197</td>\n",
       "    </tr>\n",
       "    <tr>\n",
       "      <th>1</th>\n",
       "      <td>5c3445ffe8a490580c567e3d</td>\n",
       "      <td>politifact14856</td>\n",
       "      <td>116</td>\n",
       "    </tr>\n",
       "    <tr>\n",
       "      <th>2</th>\n",
       "      <td>5c3445ffe8a490580c567e3e</td>\n",
       "      <td>politifact14733</td>\n",
       "      <td>33</td>\n",
       "    </tr>\n",
       "    <tr>\n",
       "      <th>3</th>\n",
       "      <td>5c3445ffe8a490580c567e3f</td>\n",
       "      <td>politifact14693</td>\n",
       "      <td>4</td>\n",
       "    </tr>\n",
       "    <tr>\n",
       "      <th>4</th>\n",
       "      <td>5c3445ffe8a490580c567e40</td>\n",
       "      <td>politifact14362</td>\n",
       "      <td>25</td>\n",
       "    </tr>\n",
       "  </tbody>\n",
       "</table>\n",
       "</div>"
      ],
      "text/plain": [
       "                        _id               id  tweetCount\n",
       "0  5c3445ffe8a490580c567e3c  politifact14927         197\n",
       "1  5c3445ffe8a490580c567e3d  politifact14856         116\n",
       "2  5c3445ffe8a490580c567e3e  politifact14733          33\n",
       "3  5c3445ffe8a490580c567e3f  politifact14693           4\n",
       "4  5c3445ffe8a490580c567e40  politifact14362          25"
      ]
     },
     "execution_count": 4,
     "metadata": {},
     "output_type": "execute_result"
    }
   ],
   "source": [
    "#fakenews_items = fakenews_datatable.find({}).limit(20);\n",
    "\n",
    "#fakenews_datatable.aggregate( [ { \"$unwind\": \"$tags\" },  { \"count\": \"$tweets\" } ] ).limit(10)\n",
    "\n",
    "items = fakenews_datatable.aggregate([{\n",
    "  \"$project\": {\n",
    "      \"_id\": \"$_id\",\n",
    "      \"id\":\"$id\",\n",
    "      \"text_content\":\"$text_content.$text\",\n",
    "      \"tweetCount\": { \"$size\": \"$tweets\" }\n",
    "  }\n",
    "    \n",
    "}]);\n",
    "\n",
    "df = pd.DataFrame(list(items))\n",
    "df.head()"
   ]
  },
  {
   "cell_type": "code",
   "execution_count": 5,
   "metadata": {},
   "outputs": [],
   "source": [
    "df = df.sort_values(by='tweetCount',ascending=False)"
   ]
  },
  {
   "cell_type": "code",
   "execution_count": 6,
   "metadata": {},
   "outputs": [
    {
     "data": {
      "text/html": [
       "<div>\n",
       "<style scoped>\n",
       "    .dataframe tbody tr th:only-of-type {\n",
       "        vertical-align: middle;\n",
       "    }\n",
       "\n",
       "    .dataframe tbody tr th {\n",
       "        vertical-align: top;\n",
       "    }\n",
       "\n",
       "    .dataframe thead th {\n",
       "        text-align: right;\n",
       "    }\n",
       "</style>\n",
       "<table border=\"1\" class=\"dataframe\">\n",
       "  <thead>\n",
       "    <tr style=\"text-align: right;\">\n",
       "      <th></th>\n",
       "      <th>_id</th>\n",
       "      <th>id</th>\n",
       "      <th>tweetCount</th>\n",
       "    </tr>\n",
       "  </thead>\n",
       "  <tbody>\n",
       "    <tr>\n",
       "      <th>84</th>\n",
       "      <td>5c34465ae8a490580c567e7b</td>\n",
       "      <td>politifact15018</td>\n",
       "      <td>1141</td>\n",
       "    </tr>\n",
       "    <tr>\n",
       "      <th>9</th>\n",
       "      <td>5c3445ffe8a490580c567e46</td>\n",
       "      <td>politifact14259</td>\n",
       "      <td>975</td>\n",
       "    </tr>\n",
       "    <tr>\n",
       "      <th>35</th>\n",
       "      <td>5c34461499023e6294754497</td>\n",
       "      <td>politifact14839</td>\n",
       "      <td>963</td>\n",
       "    </tr>\n",
       "    <tr>\n",
       "      <th>63</th>\n",
       "      <td>5c34463de8a490580c567e71</td>\n",
       "      <td>politifact13589</td>\n",
       "      <td>827</td>\n",
       "    </tr>\n",
       "    <tr>\n",
       "      <th>38</th>\n",
       "      <td>5c34462699023e62947544ac</td>\n",
       "      <td>politifact15004</td>\n",
       "      <td>430</td>\n",
       "    </tr>\n",
       "    <tr>\n",
       "      <th>30</th>\n",
       "      <td>5c344615f839832ff86827f0</td>\n",
       "      <td>politifact13854</td>\n",
       "      <td>376</td>\n",
       "    </tr>\n",
       "    <tr>\n",
       "      <th>19</th>\n",
       "      <td>5c34461144925f59105fd04f</td>\n",
       "      <td>politifact14238</td>\n",
       "      <td>352</td>\n",
       "    </tr>\n",
       "    <tr>\n",
       "      <th>102</th>\n",
       "      <td>5c34466599023e62947544bb</td>\n",
       "      <td>politifact15334</td>\n",
       "      <td>333</td>\n",
       "    </tr>\n",
       "    <tr>\n",
       "      <th>5</th>\n",
       "      <td>5c3445ffe8a490580c567e41</td>\n",
       "      <td>politifact15201</td>\n",
       "      <td>329</td>\n",
       "    </tr>\n",
       "    <tr>\n",
       "      <th>103</th>\n",
       "      <td>5c34466599023e62947544bc</td>\n",
       "      <td>politifact15048</td>\n",
       "      <td>296</td>\n",
       "    </tr>\n",
       "  </tbody>\n",
       "</table>\n",
       "</div>"
      ],
      "text/plain": [
       "                          _id               id  tweetCount\n",
       "84   5c34465ae8a490580c567e7b  politifact15018        1141\n",
       "9    5c3445ffe8a490580c567e46  politifact14259         975\n",
       "35   5c34461499023e6294754497  politifact14839         963\n",
       "63   5c34463de8a490580c567e71  politifact13589         827\n",
       "38   5c34462699023e62947544ac  politifact15004         430\n",
       "30   5c344615f839832ff86827f0  politifact13854         376\n",
       "19   5c34461144925f59105fd04f  politifact14238         352\n",
       "102  5c34466599023e62947544bb  politifact15334         333\n",
       "5    5c3445ffe8a490580c567e41  politifact15201         329\n",
       "103  5c34466599023e62947544bc  politifact15048         296"
      ]
     },
     "execution_count": 6,
     "metadata": {},
     "output_type": "execute_result"
    }
   ],
   "source": [
    "df.head(10)"
   ]
  },
  {
   "cell_type": "code",
   "execution_count": 7,
   "metadata": {},
   "outputs": [
    {
     "name": "stderr",
     "output_type": "stream",
     "text": [
      "C:\\Users\\chami\\Anaconda3\\envs\\PythonData\\lib\\site-packages\\ipykernel_launcher.py:2: SettingWithCopyWarning: \n",
      "A value is trying to be set on a copy of a slice from a DataFrame.\n",
      "Try using .loc[row_indexer,col_indexer] = value instead\n",
      "\n",
      "See the caveats in the documentation: http://pandas.pydata.org/pandas-docs/stable/indexing.html#indexing-view-versus-copy\n",
      "  \n",
      "C:\\Users\\chami\\Anaconda3\\envs\\PythonData\\lib\\site-packages\\ipykernel_launcher.py:4: FutureWarning: set_value is deprecated and will be removed in a future release. Please use .at[] or .iat[] accessors instead\n",
      "  after removing the cwd from sys.path.\n"
     ]
    },
    {
     "data": {
      "text/html": [
       "<div>\n",
       "<style scoped>\n",
       "    .dataframe tbody tr th:only-of-type {\n",
       "        vertical-align: middle;\n",
       "    }\n",
       "\n",
       "    .dataframe tbody tr th {\n",
       "        vertical-align: top;\n",
       "    }\n",
       "\n",
       "    .dataframe thead th {\n",
       "        text-align: right;\n",
       "    }\n",
       "</style>\n",
       "<table border=\"1\" class=\"dataframe\">\n",
       "  <thead>\n",
       "    <tr style=\"text-align: right;\">\n",
       "      <th></th>\n",
       "      <th>_id</th>\n",
       "      <th>id</th>\n",
       "      <th>tweetCount</th>\n",
       "      <th>news_title</th>\n",
       "    </tr>\n",
       "  </thead>\n",
       "  <tbody>\n",
       "    <tr>\n",
       "      <th>84</th>\n",
       "      <td>5c34465ae8a490580c567e7b</td>\n",
       "      <td>politifact15018</td>\n",
       "      <td>1141</td>\n",
       "      <td>Smoking In Cars With Children Is Illegal Start...</td>\n",
       "    </tr>\n",
       "    <tr>\n",
       "      <th>9</th>\n",
       "      <td>5c3445ffe8a490580c567e46</td>\n",
       "      <td>politifact14259</td>\n",
       "      <td>975</td>\n",
       "      <td>Bumble Bee Foods charged after man cooked with...</td>\n",
       "    </tr>\n",
       "    <tr>\n",
       "      <th>35</th>\n",
       "      <td>5c34461499023e6294754497</td>\n",
       "      <td>politifact14839</td>\n",
       "      <td>963</td>\n",
       "      <td>Morgue employee cremated by mistake while taki...</td>\n",
       "    </tr>\n",
       "    <tr>\n",
       "      <th>63</th>\n",
       "      <td>5c34463de8a490580c567e71</td>\n",
       "      <td>politifact13589</td>\n",
       "      <td>827</td>\n",
       "      <td>Pope Francis To Followers: “Koran And Holy Bib...</td>\n",
       "    </tr>\n",
       "    <tr>\n",
       "      <th>38</th>\n",
       "      <td>5c34462699023e62947544ac</td>\n",
       "      <td>politifact15004</td>\n",
       "      <td>430</td>\n",
       "      <td>NFL Lawyer, Who Claimed Super Bowl Is ‘Rigged’...</td>\n",
       "    </tr>\n",
       "  </tbody>\n",
       "</table>\n",
       "</div>"
      ],
      "text/plain": [
       "                         _id               id  tweetCount  \\\n",
       "84  5c34465ae8a490580c567e7b  politifact15018        1141   \n",
       "9   5c3445ffe8a490580c567e46  politifact14259         975   \n",
       "35  5c34461499023e6294754497  politifact14839         963   \n",
       "63  5c34463de8a490580c567e71  politifact13589         827   \n",
       "38  5c34462699023e62947544ac  politifact15004         430   \n",
       "\n",
       "                                           news_title  \n",
       "84  Smoking In Cars With Children Is Illegal Start...  \n",
       "9   Bumble Bee Foods charged after man cooked with...  \n",
       "35  Morgue employee cremated by mistake while taki...  \n",
       "63  Pope Francis To Followers: “Koran And Holy Bib...  \n",
       "38  NFL Lawyer, Who Claimed Super Bowl Is ‘Rigged’...  "
      ]
     },
     "execution_count": 7,
     "metadata": {},
     "output_type": "execute_result"
    }
   ],
   "source": [
    "df2=df.head(10)\n",
    "df2['news_title']=\"\"\n",
    "for index,row in df2.iterrows():\n",
    "    df2.set_value(index,'news_title',fakenews_datatable.find_one({\"id\":row[\"id\"]})['text_content']['title'])\n",
    "\n",
    "df2.head()"
   ]
  },
  {
   "cell_type": "code",
   "execution_count": 7,
   "metadata": {},
   "outputs": [],
   "source": [
    "auth = tweepy.OAuthHandler(consumer_key, consumer_secret)\n",
    "auth.set_access_token(access_token, access_token_secret)\n",
    "api = tweepy.API(auth)"
   ]
  },
  {
   "cell_type": "code",
   "execution_count": 10,
   "metadata": {},
   "outputs": [
    {
     "name": "stdout",
     "output_type": "stream",
     "text": [
      "NFL Lawyer, Who Claimed Super Bowl Is ‘Rigged’, Found Dead\n"
     ]
    },
    {
     "ename": "TweepError",
     "evalue": "[{'code': 63, 'message': 'User has been suspended.'}]",
     "output_type": "error",
     "traceback": [
      "\u001b[1;31m---------------------------------------------------------------------------\u001b[0m",
      "\u001b[1;31mTweepError\u001b[0m                                Traceback (most recent call last)",
      "\u001b[1;32m<ipython-input-10-d606d8a5aeef>\u001b[0m in \u001b[0;36m<module>\u001b[1;34m()\u001b[0m\n\u001b[0;32m     10\u001b[0m             \u001b[0mtwitter_data_dic\u001b[0m\u001b[1;33m[\u001b[0m\u001b[1;34m'title'\u001b[0m\u001b[1;33m]\u001b[0m\u001b[1;33m=\u001b[0m\u001b[0mpolitifacts\u001b[0m\u001b[1;33m[\u001b[0m\u001b[1;34m'text_content'\u001b[0m\u001b[1;33m]\u001b[0m\u001b[1;33m[\u001b[0m\u001b[1;34m'title'\u001b[0m\u001b[1;33m]\u001b[0m\u001b[1;33m\u001b[0m\u001b[0m\n\u001b[0;32m     11\u001b[0m \u001b[1;33m\u001b[0m\u001b[0m\n\u001b[1;32m---> 12\u001b[1;33m             \u001b[0mtwitter_data\u001b[0m\u001b[1;33m=\u001b[0m\u001b[0mapi\u001b[0m\u001b[1;33m.\u001b[0m\u001b[0mget_status\u001b[0m\u001b[1;33m(\u001b[0m\u001b[0mtweet\u001b[0m\u001b[1;33m[\u001b[0m\u001b[1;34m'tweet_id'\u001b[0m\u001b[1;33m]\u001b[0m\u001b[1;33m)\u001b[0m\u001b[1;33m\u001b[0m\u001b[0m\n\u001b[0m\u001b[0;32m     13\u001b[0m             \u001b[0mprint\u001b[0m\u001b[1;33m(\u001b[0m\u001b[0mtwitter_data\u001b[0m\u001b[1;33m.\u001b[0m\u001b[0mtext\u001b[0m\u001b[1;33m)\u001b[0m\u001b[1;33m\u001b[0m\u001b[0m\n\u001b[0;32m     14\u001b[0m             \u001b[0mprint\u001b[0m\u001b[1;33m(\u001b[0m\u001b[0mtwitter_data\u001b[0m\u001b[1;33m.\u001b[0m\u001b[0muser\u001b[0m\u001b[1;33m.\u001b[0m\u001b[0mlocation\u001b[0m\u001b[1;33m)\u001b[0m\u001b[1;33m\u001b[0m\u001b[0m\n",
      "\u001b[1;32m~\\Anaconda3\\envs\\PythonData\\lib\\site-packages\\tweepy\\binder.py\u001b[0m in \u001b[0;36m_call\u001b[1;34m(*args, **kwargs)\u001b[0m\n\u001b[0;32m    248\u001b[0m             \u001b[1;32mreturn\u001b[0m \u001b[0mmethod\u001b[0m\u001b[1;33m\u001b[0m\u001b[0m\n\u001b[0;32m    249\u001b[0m         \u001b[1;32melse\u001b[0m\u001b[1;33m:\u001b[0m\u001b[1;33m\u001b[0m\u001b[0m\n\u001b[1;32m--> 250\u001b[1;33m             \u001b[1;32mreturn\u001b[0m \u001b[0mmethod\u001b[0m\u001b[1;33m.\u001b[0m\u001b[0mexecute\u001b[0m\u001b[1;33m(\u001b[0m\u001b[1;33m)\u001b[0m\u001b[1;33m\u001b[0m\u001b[0m\n\u001b[0m\u001b[0;32m    251\u001b[0m \u001b[1;33m\u001b[0m\u001b[0m\n\u001b[0;32m    252\u001b[0m     \u001b[1;31m# Set pagination mode\u001b[0m\u001b[1;33m\u001b[0m\u001b[1;33m\u001b[0m\u001b[0m\n",
      "\u001b[1;32m~\\Anaconda3\\envs\\PythonData\\lib\\site-packages\\tweepy\\binder.py\u001b[0m in \u001b[0;36mexecute\u001b[1;34m(self)\u001b[0m\n\u001b[0;32m    232\u001b[0m                     \u001b[1;32mraise\u001b[0m \u001b[0mRateLimitError\u001b[0m\u001b[1;33m(\u001b[0m\u001b[0merror_msg\u001b[0m\u001b[1;33m,\u001b[0m \u001b[0mresp\u001b[0m\u001b[1;33m)\u001b[0m\u001b[1;33m\u001b[0m\u001b[0m\n\u001b[0;32m    233\u001b[0m                 \u001b[1;32melse\u001b[0m\u001b[1;33m:\u001b[0m\u001b[1;33m\u001b[0m\u001b[0m\n\u001b[1;32m--> 234\u001b[1;33m                     \u001b[1;32mraise\u001b[0m \u001b[0mTweepError\u001b[0m\u001b[1;33m(\u001b[0m\u001b[0merror_msg\u001b[0m\u001b[1;33m,\u001b[0m \u001b[0mresp\u001b[0m\u001b[1;33m,\u001b[0m \u001b[0mapi_code\u001b[0m\u001b[1;33m=\u001b[0m\u001b[0mapi_error_code\u001b[0m\u001b[1;33m)\u001b[0m\u001b[1;33m\u001b[0m\u001b[0m\n\u001b[0m\u001b[0;32m    235\u001b[0m \u001b[1;33m\u001b[0m\u001b[0m\n\u001b[0;32m    236\u001b[0m             \u001b[1;31m# Parse the response payload\u001b[0m\u001b[1;33m\u001b[0m\u001b[1;33m\u001b[0m\u001b[0m\n",
      "\u001b[1;31mTweepError\u001b[0m: [{'code': 63, 'message': 'User has been suspended.'}]"
     ]
    }
   ],
   "source": [
    "twitter_data_list = []\n",
    "\n",
    "politifacts=db.fakenews_data.find_one({\"id\":\"politifact15004\"})\n",
    "print(politifacts['text_content']['title'])\n",
    "    \n",
    "for tweet in politifacts['tweets']:\n",
    "        twitter_data_dic = {}\n",
    "        try:\n",
    "            twitter_data_dic['id']=\"politifact15004\"\n",
    "            twitter_data_dic['title']=politifacts['text_content']['title']\n",
    "            \n",
    "            twitter_data=api.get_status(tweet['tweet_id'])\n",
    "            print(twitter_data.text)\n",
    "            print(twitter_data.user.location)\n",
    "            print(datetime.utcfromtimestamp(tweet['created_at']).strftime('%Y-%m-%d %H:%M:%S'))\n",
    "            print(twitter_data.user.screen_name)\n",
    "            twitter_data_dic['twitter_text']=twitter_data.text\n",
    "            twitter_data_dic['twitter_location']=twitter_data.user.location\n",
    "            twitter_data_dic['twitter_time']=datetime.utcfromtimestamp(tweet['created_at']).strftime('%Y-%m-%d %H:%M:%S')\n",
    "            twitter_data_dic['twitter_user']=twitter_data.user.screen_name\n",
    "            \n",
    "            twitter_data_list.append(twitter_data_dic)\n",
    "            db.twitter_data_combined.insert(twitter_data_dic)\n",
    "       \n",
    "        except tweepy.RateLimitError:\n",
    "            print(\"rate limit exceeded\")\n",
    "            time.sleep(60 * 15)\n",
    "            continue\n",
    "        \n",
    "\n",
    "    \n",
    "    "
   ]
  },
  {
   "cell_type": "code",
   "execution_count": null,
   "metadata": {},
   "outputs": [],
   "source": [
    "combined_data = pd.DataFrame(twitter_data_list)\n",
    "combined_data"
   ]
  },
  {
   "cell_type": "code",
   "execution_count": null,
   "metadata": {},
   "outputs": [],
   "source": [
    "combined_data.to_json(orient='records')"
   ]
  },
  {
   "cell_type": "code",
   "execution_count": null,
   "metadata": {},
   "outputs": [],
   "source": [
    "with open('data.json', 'w') as outfile:\n",
    "    json.dump(combined_data.to_json(orient='records'), outfile)"
   ]
  },
  {
   "cell_type": "code",
   "execution_count": null,
   "metadata": {},
   "outputs": [],
   "source": [
    "combined_data.to_csv(\"data.csv\")"
   ]
  },
  {
   "cell_type": "code",
   "execution_count": null,
   "metadata": {},
   "outputs": [],
   "source": []
  }
 ],
 "metadata": {
  "kernelspec": {
   "display_name": "Python 3",
   "language": "python",
   "name": "python3"
  },
  "language_info": {
   "codemirror_mode": {
    "name": "ipython",
    "version": 3
   },
   "file_extension": ".py",
   "mimetype": "text/x-python",
   "name": "python",
   "nbconvert_exporter": "python",
   "pygments_lexer": "ipython3",
   "version": "3.6.5"
  }
 },
 "nbformat": 4,
 "nbformat_minor": 2
}
